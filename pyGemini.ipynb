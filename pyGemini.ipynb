{
  "nbformat": 4,
  "nbformat_minor": 0,
  "metadata": {
    "colab": {
      "provenance": [],
      "authorship_tag": "ABX9TyODLM6PvF2m2MZ8vSfWIpvI",
      "include_colab_link": true
    },
    "kernelspec": {
      "name": "python3",
      "display_name": "Python 3"
    },
    "language_info": {
      "name": "python"
    }
  },
  "cells": [
    {
      "cell_type": "markdown",
      "metadata": {
        "id": "view-in-github",
        "colab_type": "text"
      },
      "source": [
        "<a href=\"https://colab.research.google.com/github/jairrb/pygemini/blob/main/pyGemini.ipynb\" target=\"_parent\"><img src=\"https://colab.research.google.com/assets/colab-badge.svg\" alt=\"Open In Colab\"/></a>"
      ]
    },
    {
      "cell_type": "markdown",
      "source": [
        "Instalação do SDK do Google AI"
      ],
      "metadata": {
        "id": "HD9eWDHit8BU"
      }
    },
    {
      "cell_type": "code",
      "execution_count": 1,
      "metadata": {
        "id": "e72eYbi7twjC"
      },
      "outputs": [],
      "source": [
        "!pip install -q -U google-generativeai"
      ]
    },
    {
      "cell_type": "markdown",
      "source": [
        "Importando SDK para o projeto e setando a API KEY"
      ],
      "metadata": {
        "id": "IG93q_jSt_VP"
      }
    },
    {
      "cell_type": "code",
      "source": [
        "# Import the Python SDK\n",
        "import google.generativeai as genai\n",
        "\n",
        "GOOGLE_API_KEY='YOUR_API_KEY'\n",
        "genai.configure(api_key=GOOGLE_API_KEY)"
      ],
      "metadata": {
        "id": "bm0OpW3auBBm"
      },
      "execution_count": 2,
      "outputs": []
    },
    {
      "cell_type": "markdown",
      "source": [
        "Parametrizando o Modelo"
      ],
      "metadata": {
        "id": "Ak2gfoK0uC8P"
      }
    },
    {
      "cell_type": "code",
      "source": [
        "generation_config = {\n",
        "  \"candidate_count\": 1,\n",
        "  \"temperature\": 0.5,\n",
        "}"
      ],
      "metadata": {
        "id": "giGyI48ouEtT"
      },
      "execution_count": 3,
      "outputs": []
    },
    {
      "cell_type": "code",
      "source": [
        "safety_settings = [\n",
        "  {\n",
        "    \"category\": \"HARM_CATEGORY_HARASSMENT\",\n",
        "    \"threshold\": \"BLOCK_MEDIUM_AND_ABOVE\"\n",
        "  },\n",
        "  {\n",
        "    \"category\": \"HARM_CATEGORY_HATE_SPEECH\",\n",
        "    \"threshold\": \"BLOCK_MEDIUM_AND_ABOVE\"\n",
        "  },\n",
        "  {\n",
        "    \"category\": \"HARM_CATEGORY_SEXUALLY_EXPLICIT\",\n",
        "    \"threshold\": \"BLOCK_MEDIUM_AND_ABOVE\"\n",
        "  },\n",
        "  {\n",
        "    \"category\": \"HARM_CATEGORY_DANGEROUS_CONTENT\",\n",
        "    \"threshold\": \"BLOCK_MEDIUM_AND_ABOVE\"\n",
        "  },\n",
        "]"
      ],
      "metadata": {
        "id": "d1KWfbfYuHG6"
      },
      "execution_count": 4,
      "outputs": []
    },
    {
      "cell_type": "markdown",
      "source": [
        "Inicializando o Modelo"
      ],
      "metadata": {
        "id": "3TIn1ZQhuIib"
      }
    },
    {
      "cell_type": "code",
      "source": [
        "model = genai.GenerativeModel(model_name=\"gemini-1.0-pro\",\n",
        "                              generation_config=generation_config,\n",
        "                              safety_settings=safety_settings)"
      ],
      "metadata": {
        "id": "ShwaK7gSuKMb"
      },
      "execution_count": 5,
      "outputs": []
    },
    {
      "cell_type": "markdown",
      "source": [
        "Treinando o modelo utilizando um histórico com FEW-SHOT."
      ],
      "metadata": {
        "id": "8jRo-otZuK9X"
      }
    },
    {
      "cell_type": "code",
      "source": [
        "chat = model.start_chat(history=[\n",
        "  {\n",
        "    \"role\": \"user\",\n",
        "    \"parts\": [\"Temos duas noticias, sendo uma fake news e outra verdadeira. Retorne qual possivelmente seria a noticia fake e qual seria a verdadeira. \\n\\nPrimeira noticia: Caminhões com doações de galões de água estariam sendo barrados nas entradas do RS por falta de pagamento de impostos. O governo estadual negou a informação, afirmando que todas as doações passam sem cobrança de tributos.\\n\\nSegunda Noticia: Alguns locais do município de Santa Maria estão sem acesso à água há pelo menos 10 dias, segundo o \\\"Bom dia Rio Grande\\\". Já a Companhia Riograndense de Saneamento (Corsan) diz que restabeleceu o fornecimento em 82% da cidade.\"]\n",
        "  },\n",
        "  {\n",
        "    \"role\": \"model\",\n",
        "    \"parts\": [\"## Analisando as notícias:\\n\\n**Primeira notícia:** Caminhões com doações de água sendo barrados por impostos.\\n\\nEssa notícia tem maiores chances de ser **fake news** pelos seguintes motivos:\\n\\n* **Governo negou a informação:** O governo estadual afirmou que não há cobrança de impostos para doações, o que contradiz a notícia.\\n* **Falta de evidências:** Não há relatos concretos ou imagens que comprovem a situação descrita.\\n* **Incoerência:** Seria ilógico e contraproducente barrar doações em um momento de crise hídrica.\\n\\n**Segunda notícia:** Locais em Santa Maria sem água há 10 dias.\\n\\nEssa notícia tem maiores chances de ser **verdadeira** pelos seguintes motivos:\\n\\n* **Fonte confiável:** A informação vem de um programa jornalístico conhecido, o \\\"Bom dia Rio Grande\\\".\\n* **Problema real:** A falta de água é um problema que afeta diversas regiões do Rio Grande do Sul.\\n* **Confirmação parcial:** A Corsan confirma que ainda não restabeleceu o fornecimento em toda a cidade, o que corrobora parte da notícia. \\n\\n\\n**Conclusão:**\\n\\n* **Fake News:** Caminhões com doações de água sendo barrados por impostos.\\n* **Notícia verdadeira:** Locais em Santa Maria sem água há 10 dias.\"]\n",
        "  },\n",
        "  {\n",
        "    \"role\": \"user\",\n",
        "    \"parts\": [\"Agora analise as próximas noticias que serão digitadas e retorne se possivelmente seria a noticia fake ou uma noticia verdadeira.\"]\n",
        "  },\n",
        "  {\n",
        "    \"role\": \"model\",\n",
        "    \"parts\": [\"Perfeito! Estou pronto para analisar as próximas notícias e te ajudar a identificar quais são potencialmente falsas ou verdadeiras. Pode digitá-las quando quiser.\"]\n",
        "  },\n",
        "])"
      ],
      "metadata": {
        "id": "bgxf1QHruVqi"
      },
      "execution_count": 6,
      "outputs": []
    },
    {
      "cell_type": "markdown",
      "source": [
        "Captura da Noticia para Analise"
      ],
      "metadata": {
        "id": "q5qrSsJLuZQv"
      }
    },
    {
      "cell_type": "code",
      "source": [
        "prompt = input('Digite uma notícia para análise: ')\n",
        "\n",
        "while prompt != 'fim':\n",
        "  response = chat.send_message(prompt)\n",
        "  print('Resposta: ',response.text, '\\n')\n",
        "  prompt = input('Digite a próxima notícia para análise: ')"
      ],
      "metadata": {
        "colab": {
          "base_uri": "https://localhost:8080/",
          "height": 316
        },
        "id": "3VKbOKbSu5rf",
        "outputId": "2835fe0a-59d8-4875-96f3-9009c5ae998f"
      },
      "execution_count": null,
      "outputs": [
        {
          "output_type": "stream",
          "name": "stdout",
          "text": [
            "Digite uma notícia para análise: Crianças boiando nas águas dos rios do Sinos e Gravataí por falta de socorro das autoridades.\n",
            "Resposta:  **Notícia:** Crianças boiando nas águas dos rios do Sinos e Gravataí por falta de socorro das autoridades.\n",
            "\n",
            "**Análise:**\n",
            "\n",
            "Essa notícia tem maiores chances de ser **fake news** pelos seguintes motivos:\n",
            "\n",
            "* **Falta de evidências:** Não há imagens, vídeos ou relatos confiáveis que comprovem a situação descrita.\n",
            "* **Exagero e sensacionalismo:** A linguagem da notícia é exagerada e sensacionalista, o que é comum em fake news.\n",
            "* **Informações imprecisas:** A notícia não especifica quais autoridades estariam negligenciando o socorro, o que torna difícil verificar sua veracidade.\n",
            "\n",
            "**Conclusão:**\n",
            "\n",
            "É provável que essa notícia seja **fake news**. É importante ser crítico em relação a informações alarmantes, especialmente quando elas não são apoiadas por evidências concretas. \n",
            "\n"
          ]
        }
      ]
    }
  ]
}