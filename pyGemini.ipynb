{
  "cells": [
    {
      "cell_type": "markdown",
      "metadata": {
        "id": "view-in-github",
        "colab_type": "text"
      },
      "source": [
        "<a href=\"https://colab.research.google.com/github/jairrb/pygemini/blob/main/pyGemini.ipynb\" target=\"_parent\"><img src=\"https://colab.research.google.com/assets/colab-badge.svg\" alt=\"Open In Colab\"/></a>"
      ]
    },
    {
      "cell_type": "markdown",
      "metadata": {
        "id": "HD9eWDHit8BU"
      },
      "source": [
        "Instalação do SDK do Google AI"
      ]
    },
    {
      "cell_type": "code",
      "execution_count": null,
      "metadata": {
        "id": "e72eYbi7twjC"
      },
      "outputs": [],
      "source": [
        "!pip install -q -U google-generativeai"
      ]
    },
    {
      "cell_type": "markdown",
      "metadata": {
        "id": "IG93q_jSt_VP"
      },
      "source": [
        "Importando SDK para o projeto e setando a API KEY"
      ]
    },
    {
      "cell_type": "code",
      "execution_count": null,
      "metadata": {
        "id": "bm0OpW3auBBm"
      },
      "outputs": [],
      "source": [
        "# Import the Python SDK\n",
        "import google.generativeai as genai\n",
        "\n",
        "GOOGLE_API_KEY='YOUR_API_KEY'\n",
        "genai.configure(api_key=GOOGLE_API_KEY)"
      ]
    },
    {
      "cell_type": "markdown",
      "metadata": {
        "id": "Ak2gfoK0uC8P"
      },
      "source": [
        "Parametrizando o Modelo"
      ]
    },
    {
      "cell_type": "code",
      "execution_count": null,
      "metadata": {
        "id": "giGyI48ouEtT"
      },
      "outputs": [],
      "source": [
        "generation_config = {\n",
        "  \"candidate_count\": 1,\n",
        "  \"temperature\": 0,\n",
        "}"
      ]
    },
    {
      "cell_type": "code",
      "execution_count": null,
      "metadata": {
        "id": "d1KWfbfYuHG6"
      },
      "outputs": [],
      "source": [
        "safety_settings = [\n",
        "  {\n",
        "    \"category\": \"HARM_CATEGORY_HARASSMENT\",\n",
        "    \"threshold\": \"BLOCK_MEDIUM_AND_ABOVE\"\n",
        "  },\n",
        "  {\n",
        "    \"category\": \"HARM_CATEGORY_HATE_SPEECH\",\n",
        "    \"threshold\": \"BLOCK_MEDIUM_AND_ABOVE\"\n",
        "  },\n",
        "  {\n",
        "    \"category\": \"HARM_CATEGORY_SEXUALLY_EXPLICIT\",\n",
        "    \"threshold\": \"BLOCK_MEDIUM_AND_ABOVE\"\n",
        "  },\n",
        "  {\n",
        "    \"category\": \"HARM_CATEGORY_DANGEROUS_CONTENT\",\n",
        "    \"threshold\": \"BLOCK_MEDIUM_AND_ABOVE\"\n",
        "  },\n",
        "]"
      ]
    },
    {
      "cell_type": "markdown",
      "metadata": {
        "id": "3TIn1ZQhuIib"
      },
      "source": [
        "Inicializando o Modelo"
      ]
    },
    {
      "cell_type": "code",
      "execution_count": null,
      "metadata": {
        "id": "ShwaK7gSuKMb"
      },
      "outputs": [],
      "source": [
        "model = genai.GenerativeModel(model_name=\"gemini-1.0-pro\",\n",
        "                              generation_config=generation_config,\n",
        "                              safety_settings=safety_settings)"
      ]
    },
    {
      "cell_type": "markdown",
      "metadata": {
        "id": "8jRo-otZuK9X"
      },
      "source": [
        "Treinando o modelo utilizando um histórico com FEW-SHOT."
      ]
    },
    {
      "cell_type": "code",
      "execution_count": null,
      "metadata": {
        "id": "bgxf1QHruVqi"
      },
      "outputs": [],
      "source": [
        "chat = model.start_chat(history=[\n",
        "  {\n",
        "    \"role\": \"user\",\n",
        "    \"parts\": [\"Temos duas noticias, sendo uma fake news e outra verdadeira. Retorne qual possivelmente seria a noticia fake e qual seria a verdadeira. \\n\\nPrimeira noticia: Caminhões com doações de galões de água estariam sendo barrados nas entradas do RS por falta de pagamento de impostos. O governo estadual negou a informação, afirmando que todas as doações passam sem cobrança de tributos.\\n\\nSegunda Noticia: Alguns locais do município de Santa Maria estão sem acesso à água há pelo menos 10 dias, segundo o \\\"Bom dia Rio Grande\\\". Já a Companhia Riograndense de Saneamento (Corsan) diz que restabeleceu o fornecimento em 82% da cidade.\"]\n",
        "  },\n",
        "  {\n",
        "    \"role\": \"model\",\n",
        "    \"parts\": [\"## Analisando as notícias:\\n\\n**Primeira notícia:** Caminhões com doações de água sendo barrados por impostos.\\n\\nEssa notícia tem maiores chances de ser **fake news** pelos seguintes motivos:\\n\\n* **Governo negou a informação:** O governo estadual afirmou que não há cobrança de impostos para doações, o que contradiz a notícia.\\n* **Falta de evidências:** Não há relatos concretos ou imagens que comprovem a situação descrita.\\n* **Incoerência:** Seria ilógico e contraproducente barrar doações em um momento de crise hídrica.\\n\\n**Segunda notícia:** Locais em Santa Maria sem água há 10 dias.\\n\\nEssa notícia tem maiores chances de ser **verdadeira** pelos seguintes motivos:\\n\\n* **Fonte confiável:** A informação vem de um programa jornalístico conhecido, o \\\"Bom dia Rio Grande\\\".\\n* **Problema real:** A falta de água é um problema que afeta diversas regiões do Rio Grande do Sul.\\n* **Confirmação parcial:** A Corsan confirma que ainda não restabeleceu o fornecimento em toda a cidade, o que corrobora parte da notícia. \\n\\n\\n**Conclusão:**\\n\\n* **Fake News:** Caminhões com doações de água sendo barrados por impostos.\\n* **Notícia verdadeira:** Locais em Santa Maria sem água há 10 dias.\"]\n",
        "  },\n",
        "  {\n",
        "    \"role\": \"user\",\n",
        "    \"parts\": [\"Agora analise as próximas noticias que serão digitadas e retorne se possivelmente seria a noticia fake ou uma noticia verdadeira.\"]\n",
        "  },\n",
        "  {\n",
        "    \"role\": \"model\",\n",
        "    \"parts\": [\"Perfeito! Estou pronto para analisar as próximas notícias e te ajudar a identificar quais são potencialmente falsas ou verdadeiras. Pode digitá-las quando quiser.\"]\n",
        "  },\n",
        "])"
      ]
    },
    {
      "cell_type": "markdown",
      "metadata": {
        "id": "q5qrSsJLuZQv"
      },
      "source": [
        "Captura da Noticia para Analise"
      ]
    },
    {
      "cell_type": "code",
      "execution_count": null,
      "metadata": {
        "colab": {
          "background_save": true,
          "base_uri": "https://localhost:8080/",
          "height": 316
        },
        "id": "3VKbOKbSu5rf",
        "outputId": "688e6223-2802-4ee7-b99b-f4e7865be480"
      },
      "outputs": [
        {
          "name": "stdout",
          "output_type": "stream",
          "text": [
            "Resposta:  **Notícia:** Crianças boiando nas águas dos rios do Sinos e Gravataí por falta de socorro das autoridades.\n",
            "\n",
            "**Análise:**\n",
            "\n",
            "Essa notícia tem maiores chances de ser **fake news** pelos seguintes motivos:\n",
            "\n",
            "* **Falta de evidências:** Não há imagens, vídeos ou relatos confiáveis que comprovem a situação descrita.\n",
            "* **Exagero e sensacionalismo:** A linguagem da notícia é exagerada e sensacionalista, o que é comum em fake news.\n",
            "* **Informações imprecisas:** A notícia não especifica quais autoridades estariam negligenciando o socorro, o que torna difícil verificar sua veracidade.\n",
            "\n",
            "**Conclusão:**\n",
            "\n",
            "É provável que essa notícia seja **fake news**. É importante ser crítico em relação a informações alarmantes, especialmente quando elas não são apoiadas por evidências concretas. \n",
            "\n"
          ]
        }
      ],
      "source": [
        "prompt = input('Digite uma notícia para análise: ')\n",
        "\n",
        "while prompt != 'fim':\n",
        "  response = chat.send_message(prompt)\n",
        "  print('Resposta: ',response.text, '\\n')\n",
        "  prompt = input('Digite a próxima notícia para análise: ')"
      ]
    }
  ],
  "metadata": {
    "colab": {
      "provenance": [],
      "authorship_tag": "ABX9TyPA7VQyZ/sk4SXG5M+moyJ9",
      "include_colab_link": true
    },
    "kernelspec": {
      "display_name": "Python 3",
      "name": "python3"
    },
    "language_info": {
      "name": "python"
    }
  },
  "nbformat": 4,
  "nbformat_minor": 0
}